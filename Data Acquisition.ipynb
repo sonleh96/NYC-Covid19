{
 "cells": [
  {
   "cell_type": "code",
   "execution_count": 1,
   "metadata": {},
   "outputs": [],
   "source": [
    "from bs4 import BeautifulSoup\n",
    "import pandas as pd\n",
    "import numpy as np\n",
    "import requests\n"
   ]
  },
  {
   "cell_type": "code",
   "execution_count": 2,
   "metadata": {},
   "outputs": [],
   "source": [
    "nyc_raw = requests.get('https://github.com/nychealth/coronavirus-data/blob/master/tests-by-zcta.csv').text\n",
    "nyc_soup = BeautifulSoup(nyc_raw, 'lxml')"
   ]
  },
  {
   "cell_type": "code",
   "execution_count": 3,
   "metadata": {},
   "outputs": [],
   "source": [
    "soup_content = nyc_soup.find('div', class_='application-main')\n",
    "nyc_table = soup_content.find('table', class_='js-csv-data csv-data js-file-line-container')\n",
    "table = nyc_table.find_all('tbody')\n",
    "rows = table[0].find_all('tr')"
   ]
  },
  {
   "cell_type": "code",
   "execution_count": 4,
   "metadata": {},
   "outputs": [],
   "source": [
    "zipcodes = []\n",
    "positive_tests = []\n",
    "percentage_total = []\n",
    "\n",
    "for row in rows:    \n",
    "    columns = row.find_all('td')\n",
    "    \n",
    "    zipcode = columns[1].text\n",
    "    positive_test = columns[2].text\n",
    "    percentage = columns[4].text\n",
    "    \n",
    "    zipcodes.append(zipcode)\n",
    "    positive_tests.append(positive_test)\n",
    "    percentage_total.append(percentage)"
   ]
  },
  {
   "cell_type": "code",
   "execution_count": 5,
   "metadata": {},
   "outputs": [
    {
     "data": {
      "text/html": [
       "<div>\n",
       "<style scoped>\n",
       "    .dataframe tbody tr th:only-of-type {\n",
       "        vertical-align: middle;\n",
       "    }\n",
       "\n",
       "    .dataframe tbody tr th {\n",
       "        vertical-align: top;\n",
       "    }\n",
       "\n",
       "    .dataframe thead th {\n",
       "        text-align: right;\n",
       "    }\n",
       "</style>\n",
       "<table border=\"1\" class=\"dataframe\">\n",
       "  <thead>\n",
       "    <tr style=\"text-align: right;\">\n",
       "      <th></th>\n",
       "      <th>Zip Code</th>\n",
       "      <th>POSITIVES</th>\n",
       "      <th>PERCENT_POSI</th>\n",
       "    </tr>\n",
       "  </thead>\n",
       "  <tbody>\n",
       "    <tr>\n",
       "      <th>0</th>\n",
       "      <td>10001</td>\n",
       "      <td>318</td>\n",
       "      <td>29.17</td>\n",
       "    </tr>\n",
       "    <tr>\n",
       "      <th>1</th>\n",
       "      <td>10002</td>\n",
       "      <td>924</td>\n",
       "      <td>38.48</td>\n",
       "    </tr>\n",
       "    <tr>\n",
       "      <th>2</th>\n",
       "      <td>10003</td>\n",
       "      <td>413</td>\n",
       "      <td>27.46</td>\n",
       "    </tr>\n",
       "    <tr>\n",
       "      <th>3</th>\n",
       "      <td>10004</td>\n",
       "      <td>28</td>\n",
       "      <td>27.72</td>\n",
       "    </tr>\n",
       "    <tr>\n",
       "      <th>4</th>\n",
       "      <td>10005</td>\n",
       "      <td>54</td>\n",
       "      <td>21.6</td>\n",
       "    </tr>\n",
       "    <tr>\n",
       "      <th>5</th>\n",
       "      <td>10006</td>\n",
       "      <td>23</td>\n",
       "      <td>21.7</td>\n",
       "    </tr>\n",
       "    <tr>\n",
       "      <th>6</th>\n",
       "      <td>10007</td>\n",
       "      <td>48</td>\n",
       "      <td>20.17</td>\n",
       "    </tr>\n",
       "    <tr>\n",
       "      <th>7</th>\n",
       "      <td>10009</td>\n",
       "      <td>631</td>\n",
       "      <td>30.6</td>\n",
       "    </tr>\n",
       "    <tr>\n",
       "      <th>8</th>\n",
       "      <td>10010</td>\n",
       "      <td>241</td>\n",
       "      <td>21.2</td>\n",
       "    </tr>\n",
       "    <tr>\n",
       "      <th>9</th>\n",
       "      <td>10011</td>\n",
       "      <td>476</td>\n",
       "      <td>30.47</td>\n",
       "    </tr>\n",
       "  </tbody>\n",
       "</table>\n",
       "</div>"
      ],
      "text/plain": [
       "  Zip Code POSITIVES PERCENT_POSI\n",
       "0    10001       318        29.17\n",
       "1    10002       924        38.48\n",
       "2    10003       413        27.46\n",
       "3    10004        28        27.72\n",
       "4    10005        54         21.6\n",
       "5    10006        23         21.7\n",
       "6    10007        48        20.17\n",
       "7    10009       631         30.6\n",
       "8    10010       241         21.2\n",
       "9    10011       476        30.47"
      ]
     },
     "execution_count": 5,
     "metadata": {},
     "output_type": "execute_result"
    }
   ],
   "source": [
    "df_covid19 = pd.DataFrame(list(zip(zipcodes, positive_tests, percentage_total)), \\\n",
    "                  columns =['Zip Code', 'POSITIVES', 'PERCENT_POSI']) \n",
    "df_covid19.drop([0], axis = 0, inplace = True)\n",
    "df_covid19.reset_index(drop=True).head(10)"
   ]
  },
  {
   "cell_type": "code",
   "execution_count": 6,
   "metadata": {},
   "outputs": [
    {
     "data": {
      "text/plain": [
       "['10001',\n",
       " '10002',\n",
       " '10003',\n",
       " '10004',\n",
       " '10005',\n",
       " '10006',\n",
       " '10007',\n",
       " '10009',\n",
       " '10010',\n",
       " '10011',\n",
       " '10012',\n",
       " '10013',\n",
       " '10014',\n",
       " '10016',\n",
       " '10017',\n",
       " '10018',\n",
       " '10019',\n",
       " '10021',\n",
       " '10022',\n",
       " '10023',\n",
       " '10024',\n",
       " '10025',\n",
       " '10026',\n",
       " '10027',\n",
       " '10028',\n",
       " '10029',\n",
       " '10030',\n",
       " '10031',\n",
       " '10032',\n",
       " '10033',\n",
       " '10034',\n",
       " '10035',\n",
       " '10036',\n",
       " '10037',\n",
       " '10038',\n",
       " '10039',\n",
       " '10040',\n",
       " '10044',\n",
       " '10065',\n",
       " '10069',\n",
       " '10075',\n",
       " '10128',\n",
       " '10280',\n",
       " '10282',\n",
       " '10301',\n",
       " '10302',\n",
       " '10303',\n",
       " '10304',\n",
       " '10305',\n",
       " '10306',\n",
       " '10307',\n",
       " '10308',\n",
       " '10309',\n",
       " '10310',\n",
       " '10312',\n",
       " '10314',\n",
       " '10451',\n",
       " '10452',\n",
       " '10453',\n",
       " '10454',\n",
       " '10455',\n",
       " '10456',\n",
       " '10457',\n",
       " '10458',\n",
       " '10459',\n",
       " '10460',\n",
       " '10461',\n",
       " '10462',\n",
       " '10463',\n",
       " '10464',\n",
       " '10465',\n",
       " '10466',\n",
       " '10467',\n",
       " '10468',\n",
       " '10469',\n",
       " '10470',\n",
       " '10471',\n",
       " '10472',\n",
       " '10473',\n",
       " '10474',\n",
       " '10475',\n",
       " '11004',\n",
       " '11101',\n",
       " '11102',\n",
       " '11103',\n",
       " '11104',\n",
       " '11105',\n",
       " '11106',\n",
       " '11109',\n",
       " '11201',\n",
       " '11203',\n",
       " '11204',\n",
       " '11205',\n",
       " '11206',\n",
       " '11207',\n",
       " '11208',\n",
       " '11209',\n",
       " '11210',\n",
       " '11211',\n",
       " '11212',\n",
       " '11213',\n",
       " '11214',\n",
       " '11215',\n",
       " '11216',\n",
       " '11217',\n",
       " '11218',\n",
       " '11219',\n",
       " '11220',\n",
       " '11221',\n",
       " '11222',\n",
       " '11223',\n",
       " '11224',\n",
       " '11225',\n",
       " '11226',\n",
       " '11228',\n",
       " '11229',\n",
       " '11230',\n",
       " '11231',\n",
       " '11232',\n",
       " '11233',\n",
       " '11234',\n",
       " '11235',\n",
       " '11236',\n",
       " '11237',\n",
       " '11238',\n",
       " '11239',\n",
       " '11354',\n",
       " '11355',\n",
       " '11356',\n",
       " '11357',\n",
       " '11358',\n",
       " '11360',\n",
       " '11361',\n",
       " '11362',\n",
       " '11363',\n",
       " '11364',\n",
       " '11365',\n",
       " '11366',\n",
       " '11367',\n",
       " '11368',\n",
       " '11369',\n",
       " '11370',\n",
       " '11372',\n",
       " '11373',\n",
       " '11374',\n",
       " '11375',\n",
       " '11377',\n",
       " '11378',\n",
       " '11379',\n",
       " '11385',\n",
       " '11411',\n",
       " '11412',\n",
       " '11413',\n",
       " '11414',\n",
       " '11415',\n",
       " '11416',\n",
       " '11417',\n",
       " '11418',\n",
       " '11419',\n",
       " '11420',\n",
       " '11421',\n",
       " '11422',\n",
       " '11423',\n",
       " '11426',\n",
       " '11427',\n",
       " '11428',\n",
       " '11429',\n",
       " '11432',\n",
       " '11433',\n",
       " '11434',\n",
       " '11435',\n",
       " '11436',\n",
       " '11691',\n",
       " '11692',\n",
       " '11693',\n",
       " '11694',\n",
       " '11697']"
      ]
     },
     "execution_count": 6,
     "metadata": {},
     "output_type": "execute_result"
    }
   ],
   "source": [
    "zipcodes.pop(0)\n",
    "zipcodes"
   ]
  },
  {
   "cell_type": "code",
   "execution_count": 7,
   "metadata": {},
   "outputs": [],
   "source": [
    "def url_creator(zip_code,category):\n",
    "    url = 'https://census.missouri.edu/acs/profiles/report.php?p=37&g=86000US' + zip_code + '&s=' + str(category)\n",
    "    return url"
   ]
  },
  {
   "cell_type": "code",
   "execution_count": 9,
   "metadata": {},
   "outputs": [],
   "source": [
    "degrees = []\n",
    "schools = []\n",
    "\n",
    "for zipcode in zipcodes:\n",
    "    \n",
    "    link = requests.get(url_creator(zipcode,'Social')).text\n",
    "    link_soup = BeautifulSoup(link, 'lxml')\n",
    "    link_content = link_soup.find('main')\n",
    "    zip_table = link_content.find('table', class_='profileTable')\n",
    "    table = zip_table.find_all('tr')\n",
    "\n",
    "    school_raw = table[69].find_all('td')\n",
    "    school = float(school_raw[2].text)\n",
    "\n",
    "    degree_raw = table[80].find_all('td')\n",
    "    degree = float(degree_raw[2].text)\n",
    "\n",
    "    degrees.append(degree)\n",
    "    schools.append(school)\n",
    "     "
   ]
  },
  {
   "cell_type": "code",
   "execution_count": 10,
   "metadata": {},
   "outputs": [
    {
     "data": {
      "text/plain": [
       "True"
      ]
     },
     "execution_count": 10,
     "metadata": {},
     "output_type": "execute_result"
    }
   ],
   "source": [
    "len(zipcodes) == len(degrees) == len(schools)"
   ]
  },
  {
   "cell_type": "code",
   "execution_count": 11,
   "metadata": {},
   "outputs": [],
   "source": [
    "# degrees \n",
    "# schools"
   ]
  },
  {
   "cell_type": "code",
   "execution_count": 12,
   "metadata": {},
   "outputs": [],
   "source": [
    "elderlys = []\n",
    "whites = []\n",
    "blacks = []\n",
    "asians = []\n",
    "\n",
    "for zipcode in zipcodes:\n",
    "    link = requests.get(url_creator(zipcode,'Demographic')).text\n",
    "    link_soup = BeautifulSoup(link, 'lxml')\n",
    "    link_content = link_soup.find('main')\n",
    "    zip_table = link_content.find('table', class_='profileTable')\n",
    "    table = zip_table.find_all('tr')\n",
    "\n",
    "    elderly_raw = table[24].find_all('td')\n",
    "    elderly = float(elderly_raw[2].text)\n",
    "\n",
    "    white_raw = table[37].find_all('td')\n",
    "    white = float(white_raw[2].text)\n",
    "\n",
    "    black_raw = table[38].find_all('td')\n",
    "    black = float(black_raw[2].text)\n",
    "\n",
    "    asian_raw = table[40].find_all('td')\n",
    "    asian = float(asian_raw[2].text)\n",
    "\n",
    "    elderlys.append(elderly)\n",
    "    whites.append(white)\n",
    "    blacks.append(black)\n",
    "    asians.append(asian)\n"
   ]
  },
  {
   "cell_type": "code",
   "execution_count": 13,
   "metadata": {},
   "outputs": [
    {
     "data": {
      "text/plain": [
       "True"
      ]
     },
     "execution_count": 13,
     "metadata": {},
     "output_type": "execute_result"
    }
   ],
   "source": [
    "len(zipcodes) == len(elderlys) == len(whites) == len(blacks) == len(asians)"
   ]
  },
  {
   "cell_type": "code",
   "execution_count": 14,
   "metadata": {},
   "outputs": [],
   "source": [
    "# elderlys\n",
    "# whites\n",
    "# blacks\n",
    "# asians"
   ]
  },
  {
   "cell_type": "code",
   "execution_count": 37,
   "metadata": {},
   "outputs": [
    {
     "data": {
      "text/plain": [
       "177"
      ]
     },
     "execution_count": 37,
     "metadata": {},
     "output_type": "execute_result"
    }
   ],
   "source": [
    "minorities = list(np.around(np.add(blacks, asians),2))\n",
    "len(minorities)"
   ]
  },
  {
   "cell_type": "code",
   "execution_count": 16,
   "metadata": {},
   "outputs": [],
   "source": [
    "def clean_money(element):\n",
    "    element = str(element)\n",
    "    element = element.replace('$','') # removes $ sign\n",
    "    element = element.replace(',','') # removes comma \n",
    "    element = float(element)          # changes data type to float\n",
    "    return element"
   ]
  },
  {
   "cell_type": "code",
   "execution_count": 18,
   "metadata": {},
   "outputs": [],
   "source": [
    "mean_incomes = []\n",
    "med_incomes = []\n",
    "povertys = []\n",
    "unemploys = []\n",
    "\n",
    "\n",
    "for zipcode in zipcodes:\n",
    "    link = requests.get(url_creator(zipcode,'Economic')).text\n",
    "    link_soup = BeautifulSoup(link, 'lxml')\n",
    "    link_content = link_soup.find('main')\n",
    "    zip_table = link_content.find('table', class_='profileTable')\n",
    "    table = zip_table.find_all('tr')\n",
    "\n",
    "    med_income_raw = table[20].find_all('td')\n",
    "    med_income = clean_money(med_income_raw[1].text)\n",
    "\n",
    "    mean_income_raw = table[21].find_all('td')\n",
    "    mean_income = clean_money(mean_income_raw[1].text)\n",
    "    \n",
    "    poverty_raw = table[54].find_all('td')\n",
    "    poverty = float(poverty_raw[2].text)\n",
    "\n",
    "    unemploy_raw = table[75].find_all('td')\n",
    "    unemploy = float(unemploy_raw[2].text)\n",
    "\n",
    "    mean_incomes.append(mean_income)\n",
    "    med_incomes.append(med_income)\n",
    "    povertys.append(poverty)\n",
    "    unemploys.append(unemploy)\n"
   ]
  },
  {
   "cell_type": "code",
   "execution_count": 20,
   "metadata": {},
   "outputs": [
    {
     "data": {
      "text/plain": [
       "True"
      ]
     },
     "execution_count": 20,
     "metadata": {},
     "output_type": "execute_result"
    }
   ],
   "source": [
    "len(zipcodes) == len(med_incomes) == len(povertys) == len(unemploys) == len(mean_incomes)"
   ]
  },
  {
   "cell_type": "code",
   "execution_count": 24,
   "metadata": {},
   "outputs": [],
   "source": [
    "# med_incomes\n",
    "# mean_incomes\n",
    "# povertys\n",
    "# unemploys"
   ]
  },
  {
   "cell_type": "markdown",
   "metadata": {},
   "source": [
    "## Used for bs4 scraping"
   ]
  },
  {
   "cell_type": "code",
   "execution_count": 168,
   "metadata": {},
   "outputs": [],
   "source": [
    "# Bachelor Degree or over percentage \n",
    "# degree = table[80].find_all('td')[2].text\n",
    "# degree[2].text"
   ]
  },
  {
   "cell_type": "code",
   "execution_count": 69,
   "metadata": {},
   "outputs": [
    {
     "data": {
      "text/plain": [
       "'63.5'"
      ]
     },
     "execution_count": 69,
     "metadata": {},
     "output_type": "execute_result"
    }
   ],
   "source": [
    "# Enrolled in college or graduate school percentage \n",
    "# school = table[69].find_all('td')\n",
    "# school[2].text"
   ]
  },
  {
   "cell_type": "code",
   "execution_count": 122,
   "metadata": {},
   "outputs": [
    {
     "data": {
      "text/plain": [
       "'18.5'"
      ]
     },
     "execution_count": 122,
     "metadata": {},
     "output_type": "execute_result"
    }
   ],
   "source": [
    "# 62 years or older percentage \n",
    "# elderly = table[24].find_all('td')\n",
    "# elderly[2].text"
   ]
  },
  {
   "cell_type": "code",
   "execution_count": 120,
   "metadata": {},
   "outputs": [
    {
     "data": {
      "text/plain": [
       "'62.9'"
      ]
     },
     "execution_count": 120,
     "metadata": {},
     "output_type": "execute_result"
    }
   ],
   "source": [
    "# White population percentage \n",
    "# white = table[37].find_all('td')\n",
    "# white[2].text"
   ]
  },
  {
   "cell_type": "code",
   "execution_count": 119,
   "metadata": {},
   "outputs": [
    {
     "data": {
      "text/plain": [
       "'6.2'"
      ]
     },
     "execution_count": 119,
     "metadata": {},
     "output_type": "execute_result"
    }
   ],
   "source": [
    "# Black or African population percentage \n",
    "# black = table[38].find_all('td')\n",
    "# black[2].text"
   ]
  },
  {
   "cell_type": "code",
   "execution_count": 121,
   "metadata": {},
   "outputs": [
    {
     "data": {
      "text/plain": [
       "'25.2'"
      ]
     },
     "execution_count": 121,
     "metadata": {},
     "output_type": "execute_result"
    }
   ],
   "source": [
    "# Asian population percentage\n",
    "# asian = table[40].find_all('td')\n",
    "# asian[2].text"
   ]
  },
  {
   "cell_type": "code",
   "execution_count": 145,
   "metadata": {},
   "outputs": [
    {
     "data": {
      "text/plain": [
       "'$88,526'"
      ]
     },
     "execution_count": 145,
     "metadata": {},
     "output_type": "execute_result"
    }
   ],
   "source": [
    "# Median household income \n",
    "# income = table[20].find_all('td')\n",
    "# income[1].text"
   ]
  },
  {
   "cell_type": "code",
   "execution_count": 150,
   "metadata": {},
   "outputs": [
    {
     "data": {
      "text/plain": [
       "'13.3'"
      ]
     },
     "execution_count": 150,
     "metadata": {},
     "output_type": "execute_result"
    }
   ],
   "source": [
    "# Persons below poverty percentage \n",
    "# poverty = table[54].find_all('td')\n",
    "# poverty[2].text"
   ]
  },
  {
   "cell_type": "code",
   "execution_count": 152,
   "metadata": {},
   "outputs": [
    {
     "data": {
      "text/plain": [
       "'4.5'"
      ]
     },
     "execution_count": 152,
     "metadata": {},
     "output_type": "execute_result"
    }
   ],
   "source": [
    "# unemployment rate \n",
    "# unemployment = table[75].find_all('td')\n",
    "# unemployment[2].text"
   ]
  },
  {
   "cell_type": "code",
   "execution_count": 39,
   "metadata": {},
   "outputs": [],
   "source": [
    "df_covid19['DEGREES'] = degrees\n",
    "df_covid19['ENROLLS'] = schools\n",
    "df_covid19['ELDER'] = elderlys\n",
    "df_covid19['WHITES'] = whites\n",
    "df_covid19['BLACKS'] = blacks\n",
    "df_covid19['ASIANS'] = asians\n",
    "df_covid19['MINORITIES'] = minorities\n",
    "df_covid19['MED_INCOMES'] = med_incomes\n",
    "df_covid19['MEAN_INCOMES'] = mean_incomes\n",
    "df_covid19['POVERTY'] = povertys\n",
    "df_covid19['UNEMPLOYMENT'] = unemploys\n"
   ]
  },
  {
   "cell_type": "code",
   "execution_count": 40,
   "metadata": {},
   "outputs": [
    {
     "data": {
      "text/html": [
       "<div>\n",
       "<style scoped>\n",
       "    .dataframe tbody tr th:only-of-type {\n",
       "        vertical-align: middle;\n",
       "    }\n",
       "\n",
       "    .dataframe tbody tr th {\n",
       "        vertical-align: top;\n",
       "    }\n",
       "\n",
       "    .dataframe thead th {\n",
       "        text-align: right;\n",
       "    }\n",
       "</style>\n",
       "<table border=\"1\" class=\"dataframe\">\n",
       "  <thead>\n",
       "    <tr style=\"text-align: right;\">\n",
       "      <th></th>\n",
       "      <th>Zip Code</th>\n",
       "      <th>POSITIVES</th>\n",
       "      <th>PERCENT_POSI</th>\n",
       "      <th>DEGREES</th>\n",
       "      <th>ENROLLS</th>\n",
       "      <th>ELDER</th>\n",
       "      <th>WHITES</th>\n",
       "      <th>BLACKS</th>\n",
       "      <th>ASIANS</th>\n",
       "      <th>MINORITIES</th>\n",
       "      <th>MED_INCOMES</th>\n",
       "      <th>MEAN_INCOMES</th>\n",
       "      <th>POVERTY</th>\n",
       "      <th>UNEMPLOYMENT</th>\n",
       "    </tr>\n",
       "  </thead>\n",
       "  <tbody>\n",
       "    <tr>\n",
       "      <th>1</th>\n",
       "      <td>10001</td>\n",
       "      <td>318</td>\n",
       "      <td>29.17</td>\n",
       "      <td>68.0</td>\n",
       "      <td>63.5</td>\n",
       "      <td>18.5</td>\n",
       "      <td>62.9</td>\n",
       "      <td>6.2</td>\n",
       "      <td>25.2</td>\n",
       "      <td>31.4</td>\n",
       "      <td>88526.0</td>\n",
       "      <td>151628.0</td>\n",
       "      <td>13.3</td>\n",
       "      <td>4.5</td>\n",
       "    </tr>\n",
       "    <tr>\n",
       "      <th>2</th>\n",
       "      <td>10002</td>\n",
       "      <td>924</td>\n",
       "      <td>38.48</td>\n",
       "      <td>34.0</td>\n",
       "      <td>36.8</td>\n",
       "      <td>24.9</td>\n",
       "      <td>32.2</td>\n",
       "      <td>8.4</td>\n",
       "      <td>41.5</td>\n",
       "      <td>49.9</td>\n",
       "      <td>35859.0</td>\n",
       "      <td>68315.0</td>\n",
       "      <td>27.7</td>\n",
       "      <td>7.0</td>\n",
       "    </tr>\n",
       "    <tr>\n",
       "      <th>3</th>\n",
       "      <td>10003</td>\n",
       "      <td>413</td>\n",
       "      <td>27.46</td>\n",
       "      <td>80.2</td>\n",
       "      <td>84.2</td>\n",
       "      <td>15.1</td>\n",
       "      <td>75.9</td>\n",
       "      <td>5.8</td>\n",
       "      <td>13.5</td>\n",
       "      <td>19.3</td>\n",
       "      <td>112131.0</td>\n",
       "      <td>189885.0</td>\n",
       "      <td>8.5</td>\n",
       "      <td>5.7</td>\n",
       "    </tr>\n",
       "    <tr>\n",
       "      <th>4</th>\n",
       "      <td>10004</td>\n",
       "      <td>28</td>\n",
       "      <td>27.72</td>\n",
       "      <td>90.4</td>\n",
       "      <td>25.1</td>\n",
       "      <td>12.4</td>\n",
       "      <td>62.8</td>\n",
       "      <td>1.7</td>\n",
       "      <td>30.4</td>\n",
       "      <td>32.1</td>\n",
       "      <td>157645.0</td>\n",
       "      <td>218650.0</td>\n",
       "      <td>2.2</td>\n",
       "      <td>4.5</td>\n",
       "    </tr>\n",
       "    <tr>\n",
       "      <th>5</th>\n",
       "      <td>10005</td>\n",
       "      <td>54</td>\n",
       "      <td>21.6</td>\n",
       "      <td>88.4</td>\n",
       "      <td>52.2</td>\n",
       "      <td>1.3</td>\n",
       "      <td>73.4</td>\n",
       "      <td>2.5</td>\n",
       "      <td>17.0</td>\n",
       "      <td>19.5</td>\n",
       "      <td>173333.0</td>\n",
       "      <td>208186.0</td>\n",
       "      <td>9.5</td>\n",
       "      <td>3.1</td>\n",
       "    </tr>\n",
       "  </tbody>\n",
       "</table>\n",
       "</div>"
      ],
      "text/plain": [
       "  Zip Code POSITIVES PERCENT_POSI  DEGREES  ENROLLS  ELDER  WHITES  BLACKS  \\\n",
       "1    10001       318        29.17     68.0     63.5   18.5    62.9     6.2   \n",
       "2    10002       924        38.48     34.0     36.8   24.9    32.2     8.4   \n",
       "3    10003       413        27.46     80.2     84.2   15.1    75.9     5.8   \n",
       "4    10004        28        27.72     90.4     25.1   12.4    62.8     1.7   \n",
       "5    10005        54         21.6     88.4     52.2    1.3    73.4     2.5   \n",
       "\n",
       "   ASIANS  MINORITIES  MED_INCOMES  MEAN_INCOMES  POVERTY  UNEMPLOYMENT  \n",
       "1    25.2        31.4      88526.0      151628.0     13.3           4.5  \n",
       "2    41.5        49.9      35859.0       68315.0     27.7           7.0  \n",
       "3    13.5        19.3     112131.0      189885.0      8.5           5.7  \n",
       "4    30.4        32.1     157645.0      218650.0      2.2           4.5  \n",
       "5    17.0        19.5     173333.0      208186.0      9.5           3.1  "
      ]
     },
     "execution_count": 40,
     "metadata": {},
     "output_type": "execute_result"
    }
   ],
   "source": [
    "df_covid19.head()"
   ]
  },
  {
   "cell_type": "code",
   "execution_count": 41,
   "metadata": {},
   "outputs": [],
   "source": [
    "API_KEY = '5e232949c48244eb888c484b236c9534'"
   ]
  },
  {
   "cell_type": "code",
   "execution_count": 42,
   "metadata": {},
   "outputs": [],
   "source": [
    "import json \n",
    "\n",
    "\n",
    "latitudes = [] #initializes empty list to append latitude data\n",
    "longitudes = [] #initializes empty list to append longitude data\n",
    "\n",
    "for zipcode in zipcodes:\n",
    "    location_input = str(zipcode) + \" New York City, NY\" # correct location input format \n",
    "    url = 'https://api.opencagedata.com/geocode/v1/json?q={}&key={}'.format(location_input, API_KEY) # correct url format\n",
    "    obj = json.loads(requests.get(url).text)  # Gets the json file, stores in a dictionary\n",
    "\n",
    "    results = obj['results'] # gets the 'results' key\n",
    "    latitude = results[0]['geometry']['lat'] # gets the 'latitude' data \n",
    "    longitude = results[0]['geometry']['lng'] #gets the 'longitude' data\n",
    "\n",
    "    latitudes.append(latitude) # Appends data to the list of latitudes\n",
    "    longitudes.append(longitude) # Appends data to the list of longitudes"
   ]
  },
  {
   "cell_type": "code",
   "execution_count": 43,
   "metadata": {},
   "outputs": [
    {
     "data": {
      "text/plain": [
       "True"
      ]
     },
     "execution_count": 43,
     "metadata": {},
     "output_type": "execute_result"
    }
   ],
   "source": [
    "len(zipcodes) == len(latitudes) == len(longitudes)"
   ]
  },
  {
   "cell_type": "code",
   "execution_count": 44,
   "metadata": {},
   "outputs": [],
   "source": [
    "df_covid19['Latitude'] = latitudes\n",
    "df_covid19['Longitude'] = longitudes"
   ]
  },
  {
   "cell_type": "code",
   "execution_count": 45,
   "metadata": {},
   "outputs": [
    {
     "data": {
      "text/html": [
       "<div>\n",
       "<style scoped>\n",
       "    .dataframe tbody tr th:only-of-type {\n",
       "        vertical-align: middle;\n",
       "    }\n",
       "\n",
       "    .dataframe tbody tr th {\n",
       "        vertical-align: top;\n",
       "    }\n",
       "\n",
       "    .dataframe thead th {\n",
       "        text-align: right;\n",
       "    }\n",
       "</style>\n",
       "<table border=\"1\" class=\"dataframe\">\n",
       "  <thead>\n",
       "    <tr style=\"text-align: right;\">\n",
       "      <th></th>\n",
       "      <th>Zip Code</th>\n",
       "      <th>POSITIVES</th>\n",
       "      <th>PERCENT_POSI</th>\n",
       "      <th>DEGREES</th>\n",
       "      <th>ENROLLS</th>\n",
       "      <th>ELDER</th>\n",
       "      <th>WHITES</th>\n",
       "      <th>BLACKS</th>\n",
       "      <th>ASIANS</th>\n",
       "      <th>MINORITIES</th>\n",
       "      <th>MED_INCOMES</th>\n",
       "      <th>MEAN_INCOMES</th>\n",
       "      <th>POVERTY</th>\n",
       "      <th>UNEMPLOYMENT</th>\n",
       "      <th>Latitude</th>\n",
       "      <th>Longitude</th>\n",
       "    </tr>\n",
       "  </thead>\n",
       "  <tbody>\n",
       "    <tr>\n",
       "      <th>173</th>\n",
       "      <td>11691</td>\n",
       "      <td>2031</td>\n",
       "      <td>49.13</td>\n",
       "      <td>25.8</td>\n",
       "      <td>22.8</td>\n",
       "      <td>15.3</td>\n",
       "      <td>38.9</td>\n",
       "      <td>46.8</td>\n",
       "      <td>3.5</td>\n",
       "      <td>50.3</td>\n",
       "      <td>46147.0</td>\n",
       "      <td>65467.0</td>\n",
       "      <td>21.4</td>\n",
       "      <td>9.4</td>\n",
       "      <td>40.608086</td>\n",
       "      <td>-73.752489</td>\n",
       "    </tr>\n",
       "    <tr>\n",
       "      <th>174</th>\n",
       "      <td>11692</td>\n",
       "      <td>536</td>\n",
       "      <td>45</td>\n",
       "      <td>23.4</td>\n",
       "      <td>22.5</td>\n",
       "      <td>15.3</td>\n",
       "      <td>22.6</td>\n",
       "      <td>60.9</td>\n",
       "      <td>5.7</td>\n",
       "      <td>66.6</td>\n",
       "      <td>44024.0</td>\n",
       "      <td>63908.0</td>\n",
       "      <td>25.4</td>\n",
       "      <td>12.9</td>\n",
       "      <td>40.593850</td>\n",
       "      <td>-73.796758</td>\n",
       "    </tr>\n",
       "    <tr>\n",
       "      <th>175</th>\n",
       "      <td>11693</td>\n",
       "      <td>299</td>\n",
       "      <td>42.84</td>\n",
       "      <td>26.4</td>\n",
       "      <td>30.9</td>\n",
       "      <td>16.8</td>\n",
       "      <td>63.3</td>\n",
       "      <td>19.9</td>\n",
       "      <td>4.0</td>\n",
       "      <td>23.9</td>\n",
       "      <td>59431.0</td>\n",
       "      <td>77799.0</td>\n",
       "      <td>14.0</td>\n",
       "      <td>5.2</td>\n",
       "      <td>40.598526</td>\n",
       "      <td>-73.817816</td>\n",
       "    </tr>\n",
       "    <tr>\n",
       "      <th>176</th>\n",
       "      <td>11694</td>\n",
       "      <td>645</td>\n",
       "      <td>41.24</td>\n",
       "      <td>43.4</td>\n",
       "      <td>27.6</td>\n",
       "      <td>25.2</td>\n",
       "      <td>81.3</td>\n",
       "      <td>6.8</td>\n",
       "      <td>3.5</td>\n",
       "      <td>10.3</td>\n",
       "      <td>80976.0</td>\n",
       "      <td>111206.0</td>\n",
       "      <td>9.9</td>\n",
       "      <td>5.4</td>\n",
       "      <td>40.580607</td>\n",
       "      <td>-73.835340</td>\n",
       "    </tr>\n",
       "    <tr>\n",
       "      <th>177</th>\n",
       "      <td>11697</td>\n",
       "      <td>86</td>\n",
       "      <td>38.74</td>\n",
       "      <td>50.8</td>\n",
       "      <td>26.8</td>\n",
       "      <td>30.1</td>\n",
       "      <td>95.4</td>\n",
       "      <td>0.6</td>\n",
       "      <td>0.6</td>\n",
       "      <td>1.2</td>\n",
       "      <td>103580.0</td>\n",
       "      <td>131013.0</td>\n",
       "      <td>3.1</td>\n",
       "      <td>4.8</td>\n",
       "      <td>40.559684</td>\n",
       "      <td>-73.915031</td>\n",
       "    </tr>\n",
       "  </tbody>\n",
       "</table>\n",
       "</div>"
      ],
      "text/plain": [
       "    Zip Code POSITIVES PERCENT_POSI  DEGREES  ENROLLS  ELDER  WHITES  BLACKS  \\\n",
       "173    11691      2031        49.13     25.8     22.8   15.3    38.9    46.8   \n",
       "174    11692       536           45     23.4     22.5   15.3    22.6    60.9   \n",
       "175    11693       299        42.84     26.4     30.9   16.8    63.3    19.9   \n",
       "176    11694       645        41.24     43.4     27.6   25.2    81.3     6.8   \n",
       "177    11697        86        38.74     50.8     26.8   30.1    95.4     0.6   \n",
       "\n",
       "     ASIANS  MINORITIES  MED_INCOMES  MEAN_INCOMES  POVERTY  UNEMPLOYMENT  \\\n",
       "173     3.5        50.3      46147.0       65467.0     21.4           9.4   \n",
       "174     5.7        66.6      44024.0       63908.0     25.4          12.9   \n",
       "175     4.0        23.9      59431.0       77799.0     14.0           5.2   \n",
       "176     3.5        10.3      80976.0      111206.0      9.9           5.4   \n",
       "177     0.6         1.2     103580.0      131013.0      3.1           4.8   \n",
       "\n",
       "      Latitude  Longitude  \n",
       "173  40.608086 -73.752489  \n",
       "174  40.593850 -73.796758  \n",
       "175  40.598526 -73.817816  \n",
       "176  40.580607 -73.835340  \n",
       "177  40.559684 -73.915031  "
      ]
     },
     "execution_count": 45,
     "metadata": {},
     "output_type": "execute_result"
    }
   ],
   "source": [
    "df_covid19.tail()"
   ]
  },
  {
   "cell_type": "code",
   "execution_count": 46,
   "metadata": {},
   "outputs": [
    {
     "data": {
      "text/html": [
       "<div>\n",
       "<style scoped>\n",
       "    .dataframe tbody tr th:only-of-type {\n",
       "        vertical-align: middle;\n",
       "    }\n",
       "\n",
       "    .dataframe tbody tr th {\n",
       "        vertical-align: top;\n",
       "    }\n",
       "\n",
       "    .dataframe thead th {\n",
       "        text-align: right;\n",
       "    }\n",
       "</style>\n",
       "<table border=\"1\" class=\"dataframe\">\n",
       "  <thead>\n",
       "    <tr style=\"text-align: right;\">\n",
       "      <th></th>\n",
       "      <th>Zip Code</th>\n",
       "      <th>Latitude</th>\n",
       "      <th>Longitude</th>\n",
       "      <th>POSITIVES</th>\n",
       "      <th>PERCENT_POSI</th>\n",
       "      <th>DEGREES</th>\n",
       "      <th>ENROLLS</th>\n",
       "      <th>ELDER</th>\n",
       "      <th>WHITES</th>\n",
       "      <th>BLACKS</th>\n",
       "      <th>ASIANS</th>\n",
       "      <th>MINORITIES</th>\n",
       "      <th>MED_INCOMES</th>\n",
       "      <th>MEAN_INCOMES</th>\n",
       "      <th>POVERTY</th>\n",
       "      <th>UNEMPLOYMENT</th>\n",
       "    </tr>\n",
       "  </thead>\n",
       "  <tbody>\n",
       "    <tr>\n",
       "      <th>1</th>\n",
       "      <td>10001</td>\n",
       "      <td>40.729825</td>\n",
       "      <td>-73.960752</td>\n",
       "      <td>318</td>\n",
       "      <td>29.17</td>\n",
       "      <td>68.0</td>\n",
       "      <td>63.5</td>\n",
       "      <td>18.5</td>\n",
       "      <td>62.9</td>\n",
       "      <td>6.2</td>\n",
       "      <td>25.2</td>\n",
       "      <td>31.4</td>\n",
       "      <td>88526.0</td>\n",
       "      <td>151628.0</td>\n",
       "      <td>13.3</td>\n",
       "      <td>4.5</td>\n",
       "    </tr>\n",
       "    <tr>\n",
       "      <th>2</th>\n",
       "      <td>10002</td>\n",
       "      <td>40.722313</td>\n",
       "      <td>-73.987709</td>\n",
       "      <td>924</td>\n",
       "      <td>38.48</td>\n",
       "      <td>34.0</td>\n",
       "      <td>36.8</td>\n",
       "      <td>24.9</td>\n",
       "      <td>32.2</td>\n",
       "      <td>8.4</td>\n",
       "      <td>41.5</td>\n",
       "      <td>49.9</td>\n",
       "      <td>35859.0</td>\n",
       "      <td>68315.0</td>\n",
       "      <td>27.7</td>\n",
       "      <td>7.0</td>\n",
       "    </tr>\n",
       "    <tr>\n",
       "      <th>3</th>\n",
       "      <td>10003</td>\n",
       "      <td>40.731603</td>\n",
       "      <td>-73.988488</td>\n",
       "      <td>413</td>\n",
       "      <td>27.46</td>\n",
       "      <td>80.2</td>\n",
       "      <td>84.2</td>\n",
       "      <td>15.1</td>\n",
       "      <td>75.9</td>\n",
       "      <td>5.8</td>\n",
       "      <td>13.5</td>\n",
       "      <td>19.3</td>\n",
       "      <td>112131.0</td>\n",
       "      <td>189885.0</td>\n",
       "      <td>8.5</td>\n",
       "      <td>5.7</td>\n",
       "    </tr>\n",
       "    <tr>\n",
       "      <th>4</th>\n",
       "      <td>10004</td>\n",
       "      <td>40.700741</td>\n",
       "      <td>-74.013467</td>\n",
       "      <td>28</td>\n",
       "      <td>27.72</td>\n",
       "      <td>90.4</td>\n",
       "      <td>25.1</td>\n",
       "      <td>12.4</td>\n",
       "      <td>62.8</td>\n",
       "      <td>1.7</td>\n",
       "      <td>30.4</td>\n",
       "      <td>32.1</td>\n",
       "      <td>157645.0</td>\n",
       "      <td>218650.0</td>\n",
       "      <td>2.2</td>\n",
       "      <td>4.5</td>\n",
       "    </tr>\n",
       "    <tr>\n",
       "      <th>5</th>\n",
       "      <td>10005</td>\n",
       "      <td>40.705636</td>\n",
       "      <td>-74.008900</td>\n",
       "      <td>54</td>\n",
       "      <td>21.6</td>\n",
       "      <td>88.4</td>\n",
       "      <td>52.2</td>\n",
       "      <td>1.3</td>\n",
       "      <td>73.4</td>\n",
       "      <td>2.5</td>\n",
       "      <td>17.0</td>\n",
       "      <td>19.5</td>\n",
       "      <td>173333.0</td>\n",
       "      <td>208186.0</td>\n",
       "      <td>9.5</td>\n",
       "      <td>3.1</td>\n",
       "    </tr>\n",
       "  </tbody>\n",
       "</table>\n",
       "</div>"
      ],
      "text/plain": [
       "  Zip Code   Latitude  Longitude POSITIVES PERCENT_POSI  DEGREES  ENROLLS  \\\n",
       "1    10001  40.729825 -73.960752       318        29.17     68.0     63.5   \n",
       "2    10002  40.722313 -73.987709       924        38.48     34.0     36.8   \n",
       "3    10003  40.731603 -73.988488       413        27.46     80.2     84.2   \n",
       "4    10004  40.700741 -74.013467        28        27.72     90.4     25.1   \n",
       "5    10005  40.705636 -74.008900        54         21.6     88.4     52.2   \n",
       "\n",
       "   ELDER  WHITES  BLACKS  ASIANS  MINORITIES  MED_INCOMES  MEAN_INCOMES  \\\n",
       "1   18.5    62.9     6.2    25.2        31.4      88526.0      151628.0   \n",
       "2   24.9    32.2     8.4    41.5        49.9      35859.0       68315.0   \n",
       "3   15.1    75.9     5.8    13.5        19.3     112131.0      189885.0   \n",
       "4   12.4    62.8     1.7    30.4        32.1     157645.0      218650.0   \n",
       "5    1.3    73.4     2.5    17.0        19.5     173333.0      208186.0   \n",
       "\n",
       "   POVERTY  UNEMPLOYMENT  \n",
       "1     13.3           4.5  \n",
       "2     27.7           7.0  \n",
       "3      8.5           5.7  \n",
       "4      2.2           4.5  \n",
       "5      9.5           3.1  "
      ]
     },
     "execution_count": 46,
     "metadata": {},
     "output_type": "execute_result"
    }
   ],
   "source": [
    "df_covid19 = df_covid19[['Zip Code','Latitude','Longitude','POSITIVES','PERCENT_POSI','DEGREES',  \n",
    "                       'ENROLLS', 'ELDER', 'WHITES','BLACKS','ASIANS','MINORITIES','MED_INCOMES',\n",
    "                         'MEAN_INCOMES','POVERTY','UNEMPLOYMENT']]\n",
    "df_covid19.head()"
   ]
  },
  {
   "cell_type": "code",
   "execution_count": 47,
   "metadata": {},
   "outputs": [],
   "source": [
    "df_covid19.to_csv('NYC_compiled_data (ACS 5 years).csv', index=False)"
   ]
  },
  {
   "cell_type": "code",
   "execution_count": 239,
   "metadata": {},
   "outputs": [
    {
     "data": {
      "text/plain": [
       "1677371"
      ]
     },
     "execution_count": 239,
     "metadata": {},
     "output_type": "execute_result"
    }
   ],
   "source": [
    "with open('nyc_zip_code.geojson', 'r') as jsonFile:\n",
    "    geodata = json.load(jsonFile)\n",
    "tmp = geodata\n",
    "zips = df_covid19['Zip Code'].tolist()\n",
    "\n",
    "geozips = []\n",
    "for i in range(len(tmp['features'])):\n",
    "    if tmp['features'][i]['properties']['postalcode'] in zips:\n",
    "        geozips.append(tmp['features'][i])\n",
    "        \n",
    "new_json = dict.fromkeys(['type','features'])\n",
    "new_json['type'] = 'FeatureCollection'\n",
    "new_json['features'] = geozips\n",
    "\n",
    "open('updated-file.json', 'w').write(\n",
    "    json.dumps(new_json, sort_keys = True, indent = 4, separators = (',', ': '))\n",
    ")"
   ]
  },
  {
   "cell_type": "code",
   "execution_count": null,
   "metadata": {},
   "outputs": [],
   "source": []
  }
 ],
 "metadata": {
  "kernelspec": {
   "display_name": "Python 3",
   "language": "python",
   "name": "python3"
  },
  "language_info": {
   "codemirror_mode": {
    "name": "ipython",
    "version": 3
   },
   "file_extension": ".py",
   "mimetype": "text/x-python",
   "name": "python",
   "nbconvert_exporter": "python",
   "pygments_lexer": "ipython3",
   "version": "3.7.3"
  }
 },
 "nbformat": 4,
 "nbformat_minor": 2
}
